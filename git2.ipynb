{
 "cells": [
  {
   "cell_type": "code",
   "execution_count": 1,
   "id": "55f1630e-e877-4f35-91b7-4e3d93730a13",
   "metadata": {},
   "outputs": [
    {
     "name": "stdout",
     "output_type": "stream",
     "text": [
      "On branch main\n",
      "Your branch is up to date with 'origin/main'.\n",
      "\n",
      "nothing to commit, working tree clean\n"
     ]
    }
   ],
   "source": [
    "!git status"
   ]
  },
  {
   "cell_type": "code",
   "execution_count": 2,
   "id": "08c7a40e-a004-47c4-8498-42f93fddc5f8",
   "metadata": {},
   "outputs": [],
   "source": [
    "! echo \"*.pynb\" > .gitignore"
   ]
  },
  {
   "cell_type": "code",
   "execution_count": 3,
   "id": "505337cd-d56c-4d13-8ef0-3ceeb73d7dac",
   "metadata": {},
   "outputs": [
    {
     "data": {
      "text/plain": [
       "'/home/sancheetb/SoftwareLabAssignment'"
      ]
     },
     "execution_count": 3,
     "metadata": {},
     "output_type": "execute_result"
    }
   ],
   "source": [
    "pwd"
   ]
  },
  {
   "cell_type": "code",
   "execution_count": 4,
   "id": "a942aec4-df25-4bc6-aaa3-e58381f6e047",
   "metadata": {},
   "outputs": [
    {
     "name": "stdout",
     "output_type": "stream",
     "text": [
      ".   .git\t.gitignore  .ipynb_checkpoints\tscraper.py\n",
      "..  git2.ipynb\tindex.html  README.md\n"
     ]
    }
   ],
   "source": [
    "!ls -a"
   ]
  },
  {
   "cell_type": "code",
   "execution_count": 5,
   "id": "aa3a233f-edb4-4d8e-8899-40d3a446409b",
   "metadata": {},
   "outputs": [],
   "source": [
    "!git add ."
   ]
  },
  {
   "cell_type": "code",
   "execution_count": 6,
   "id": "c0897c62-7ad7-4e32-bd23-df059876cefb",
   "metadata": {},
   "outputs": [
    {
     "name": "stdout",
     "output_type": "stream",
     "text": [
      "On branch main\n",
      "Your branch is up to date with 'origin/main'.\n",
      "\n",
      "Changes to be committed:\n",
      "  (use \"git restore --staged <file>...\" to unstage)\n",
      "\t\u001b[32mmodified:   .gitignore\u001b[m\n",
      "\t\u001b[32mnew file:   .ipynb_checkpoints/git2-checkpoint.ipynb\u001b[m\n",
      "\t\u001b[32mnew file:   git2.ipynb\u001b[m\n",
      "\n"
     ]
    }
   ],
   "source": [
    "!git status"
   ]
  },
  {
   "cell_type": "code",
   "execution_count": 7,
   "id": "78ca68da-b604-4b7f-b0f6-a11cc73db597",
   "metadata": {},
   "outputs": [],
   "source": [
    "!rm .ipynb_checkpoints/git2-checkpoint.ipynb"
   ]
  },
  {
   "cell_type": "code",
   "execution_count": null,
   "id": "404d4d37-96e8-4f61-909c-b3e18838426b",
   "metadata": {},
   "outputs": [],
   "source": []
  }
 ],
 "metadata": {
  "kernelspec": {
   "display_name": "Python 3 (ipykernel)",
   "language": "python",
   "name": "python3"
  },
  "language_info": {
   "codemirror_mode": {
    "name": "ipython",
    "version": 3
   },
   "file_extension": ".py",
   "mimetype": "text/x-python",
   "name": "python",
   "nbconvert_exporter": "python",
   "pygments_lexer": "ipython3",
   "version": "3.13.7"
  }
 },
 "nbformat": 4,
 "nbformat_minor": 5
}
