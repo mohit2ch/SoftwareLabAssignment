{
 "cells": [
  {
   "cell_type": "code",
   "execution_count": 1,
   "id": "55f1630e-e877-4f35-91b7-4e3d93730a13",
   "metadata": {},
   "outputs": [
    {
     "name": "stdout",
     "output_type": "stream",
     "text": [
      "On branch main\n",
      "Your branch is up to date with 'origin/main'.\n",
      "\n",
      "nothing to commit, working tree clean\n"
     ]
    }
   ],
   "source": [
    "!git status"
   ]
  },
  {
   "cell_type": "code",
   "execution_count": 2,
   "id": "08c7a40e-a004-47c4-8498-42f93fddc5f8",
   "metadata": {},
   "outputs": [],
   "source": [
    "! echo \"*.pynb\" > .gitignore"
   ]
  },
  {
   "cell_type": "code",
   "execution_count": 3,
   "id": "505337cd-d56c-4d13-8ef0-3ceeb73d7dac",
   "metadata": {},
   "outputs": [
    {
     "data": {
      "text/plain": [
       "'/home/sancheetb/SoftwareLabAssignment'"
      ]
     },
     "execution_count": 3,
     "metadata": {},
     "output_type": "execute_result"
    }
   ],
   "source": [
    "pwd"
   ]
  },
  {
   "cell_type": "code",
   "execution_count": 4,
   "id": "a942aec4-df25-4bc6-aaa3-e58381f6e047",
   "metadata": {},
   "outputs": [
    {
     "name": "stdout",
     "output_type": "stream",
     "text": [
      ".   .git\t.gitignore  .ipynb_checkpoints\tscraper.py\n",
      "..  git2.ipynb\tindex.html  README.md\n"
     ]
    }
   ],
   "source": [
    "!ls -a"
   ]
  },
  {
   "cell_type": "code",
   "execution_count": 5,
   "id": "aa3a233f-edb4-4d8e-8899-40d3a446409b",
   "metadata": {},
   "outputs": [],
   "source": [
    "!git add ."
   ]
  },
  {
   "cell_type": "code",
   "execution_count": 6,
   "id": "c0897c62-7ad7-4e32-bd23-df059876cefb",
   "metadata": {},
   "outputs": [
    {
     "name": "stdout",
     "output_type": "stream",
     "text": [
      "On branch main\n",
      "Your branch is up to date with 'origin/main'.\n",
      "\n",
      "Changes to be committed:\n",
      "  (use \"git restore --staged <file>...\" to unstage)\n",
      "\t\u001b[32mmodified:   .gitignore\u001b[m\n",
      "\t\u001b[32mnew file:   .ipynb_checkpoints/git2-checkpoint.ipynb\u001b[m\n",
      "\t\u001b[32mnew file:   git2.ipynb\u001b[m\n",
      "\n"
     ]
    }
   ],
   "source": [
    "!git status"
   ]
  },
  {
   "cell_type": "code",
   "execution_count": 7,
   "id": "78ca68da-b604-4b7f-b0f6-a11cc73db597",
   "metadata": {},
   "outputs": [],
   "source": [
    "!rm .ipynb_checkpoints/git2-checkpoint.ipynb"
   ]
  },
  {
   "cell_type": "code",
   "execution_count": 8,
   "id": "404d4d37-96e8-4f61-909c-b3e18838426b",
   "metadata": {},
   "outputs": [],
   "source": [
    "! git add ."
   ]
  },
  {
   "cell_type": "code",
   "execution_count": 9,
   "id": "b729c387-5512-4e00-8563-c696a58f0ca9",
   "metadata": {},
   "outputs": [
    {
     "name": "stdout",
     "output_type": "stream",
     "text": [
      "On branch main\n",
      "Your branch is up to date with 'origin/main'.\n",
      "\n",
      "Changes to be committed:\n",
      "  (use \"git restore --staged <file>...\" to unstage)\n",
      "\t\u001b[32mmodified:   .gitignore\u001b[m\n",
      "\t\u001b[32mnew file:   .ipynb_checkpoints/git2-checkpoint.ipynb\u001b[m\n",
      "\t\u001b[32mnew file:   git2.ipynb\u001b[m\n",
      "\n"
     ]
    }
   ],
   "source": [
    "!git status"
   ]
  },
  {
   "cell_type": "code",
   "execution_count": 10,
   "id": "00063002-cd49-41a6-b665-b5df1ea4b481",
   "metadata": {},
   "outputs": [
    {
     "name": "stdout",
     "output_type": "stream",
     "text": [
      "[main 8123e10] Added .gitignore to ignore jupyter notebook while working\n",
      " 3 files changed, 301 insertions(+), 1 deletion(-)\n",
      " create mode 100644 .ipynb_checkpoints/git2-checkpoint.ipynb\n",
      " create mode 100644 git2.ipynb\n"
     ]
    }
   ],
   "source": [
    "!git commit -m \"Added .gitignore to ignore jupyter notebook while working\""
   ]
  },
  {
   "cell_type": "code",
   "execution_count": 11,
   "id": "592c41e0-e0a4-44b0-a132-003a7f0abbdc",
   "metadata": {},
   "outputs": [
    {
     "name": "stdout",
     "output_type": "stream",
     "text": [
      "Enumerating objects: 7, done.\n",
      "Counting objects: 100% (7/7), done.\n",
      "Delta compression using up to 8 threads\n",
      "Compressing objects: 100% (3/3), done.\n",
      "Writing objects: 100% (5/5), 1.45 KiB | 1.45 MiB/s, done.\n",
      "Total 5 (delta 0), reused 0 (delta 0), pack-reused 0 (from 0)\n",
      "To github.com:mohit2ch/SoftwareLabAssignment.git\n",
      "   e691a83..8123e10  main -> main\n"
     ]
    }
   ],
   "source": [
    "!git push origin"
   ]
  },
  {
   "cell_type": "code",
   "execution_count": 12,
   "id": "c277860c-5d1c-4696-af35-80da716df3b5",
   "metadata": {},
   "outputs": [],
   "source": [
    "! git branch README_test_branch"
   ]
  },
  {
   "cell_type": "code",
   "execution_count": 13,
   "id": "9f470da8-aad3-485a-a63e-1330fb1138ed",
   "metadata": {},
   "outputs": [
    {
     "name": "stdout",
     "output_type": "stream",
     "text": [
      "Your branch is up to date with 'origin/main'.\n"
     ]
    }
   ],
   "source": [
    "! git checkout"
   ]
  },
  {
   "cell_type": "code",
   "execution_count": 14,
   "id": "f0a3b739-eeed-4dc5-9ecb-aa0ce2569e7a",
   "metadata": {},
   "outputs": [
    {
     "name": "stdout",
     "output_type": "stream",
     "text": [
      "Switched to branch 'README_test_branch'\n"
     ]
    }
   ],
   "source": [
    "! git checkout README_test_branch"
   ]
  },
  {
   "cell_type": "code",
   "execution_count": null,
   "id": "edac4bdb-6b6c-4534-b7f9-ae9f36b01b7e",
   "metadata": {},
   "outputs": [],
   "source": [
    "! echo \"#Automatic collection and filtering of Proxy server addresses \\n This project automates the collection and filtering of proxy server addresses using Python. It performs web scraping to gather proxy addresses from multiple online sources, then tests each proxy to verify its functionality and measures key metrics such as response time. The project filters out non-working or slow proxies to ensure reliability. Finally, it presents the validated proxy list along with detailed statistics like location and response time through a user friendly Flask web interface.\" >> "
   ]
  }
 ],
 "metadata": {
  "kernelspec": {
   "display_name": "Python 3 (ipykernel)",
   "language": "python",
   "name": "python3"
  },
  "language_info": {
   "codemirror_mode": {
    "name": "ipython",
    "version": 3
   },
   "file_extension": ".py",
   "mimetype": "text/x-python",
   "name": "python",
   "nbconvert_exporter": "python",
   "pygments_lexer": "ipython3",
   "version": "3.13.7"
  }
 },
 "nbformat": 4,
 "nbformat_minor": 5
}
